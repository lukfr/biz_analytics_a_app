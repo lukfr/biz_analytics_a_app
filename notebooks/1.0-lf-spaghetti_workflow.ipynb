{
 "cells": [
  {
   "cell_type": "code",
   "execution_count": 1,
   "outputs": [],
   "source": [
    "import pandas as pd\n",
    "\n",
    "#Daten einlesen\n",
    "data_orig = pd.read_parquet('../src/data/interim/data_numeric.parquet')"
   ],
   "metadata": {
    "collapsed": false,
    "pycharm": {
     "name": "#%%\n"
    }
   }
  },
  {
   "cell_type": "code",
   "execution_count": 2,
   "outputs": [
    {
     "name": "stdout",
     "output_type": "stream",
     "text": [
      "zeilen vor Duplikatentfernung:  26601\n",
      "zeilen nach Duplikatentfernung:  26561\n"
     ]
    }
   ],
   "source": [
    "#Zeilen mit leeren Werten löschen\n",
    "#data_orig = data_orig.dropna()\n",
    "#Duplikate entfernen\n",
    "print('zeilen vor Duplikatentfernung: ', len(data_orig))\n",
    "data_orig = data_orig[data_orig.duplicated()==False]\n",
    "print('zeilen nach Duplikatentfernung: ', len(data_orig))"
   ],
   "metadata": {
    "collapsed": false,
    "pycharm": {
     "name": "#%%\n"
    }
   }
  },
  {
   "cell_type": "code",
   "execution_count": 17,
   "outputs": [
    {
     "data": {
      "text/plain": "Index(['look_at_dates', 'age', 'age_stop_edu', 'household_size', 'cntrylat',\n       'cntrylon', 'best_before_meaning_map', 'validity_meaning_map',\n       'work_scale', 'population_density', 'salary',\n       'no_date_spaghetti_throw_away', 'gender_Female'],\n      dtype='object')"
     },
     "execution_count": 17,
     "metadata": {},
     "output_type": "execute_result"
    }
   ],
   "source": [
    "data_orig.columns"
   ],
   "metadata": {
    "collapsed": false,
    "pycharm": {
     "name": "#%%\n"
    }
   }
  },
  {
   "cell_type": "code",
   "execution_count": 18,
   "outputs": [],
   "source": [
    "#2. modell erstellen\n",
    "#Pipelines ZielSpalte nicht Transformer einegebn\n",
    "from sklearn.pipeline import make_pipeline\n",
    "from sklearn.compose import ColumnTransformer\n",
    "from sklearn.preprocessing  import StandardScaler\n",
    "from sklearn.ensemble import RandomForestClassifier\n",
    "from sklearn.impute import SimpleImputer\n",
    "\n",
    "pipeline = make_pipeline(\n",
    "    ColumnTransformer([\n",
    "        ('select_columns','passthrough',\n",
    "         ['look_at_dates', 'age', 'age_stop_edu', 'household_size', 'cntrylat', 'cntrylon', 'best_before_meaning_map', 'validity_meaning_map',\n",
    "          'work_scale', 'population_density', 'salary', 'gender_Female'])\n",
    "    ]),\n",
    "    SimpleImputer(),\n",
    "    StandardScaler(),\n",
    "    RandomForestClassifier(\n",
    "\n",
    "        random_state=42\n",
    "    )\n",
    ")"
   ],
   "metadata": {
    "collapsed": false,
    "pycharm": {
     "name": "#%%\n"
    }
   }
  },
  {
   "cell_type": "code",
   "execution_count": 19,
   "outputs": [
    {
     "data": {
      "text/plain": "0.32275453125022796"
     },
     "execution_count": 19,
     "metadata": {},
     "output_type": "execute_result"
    }
   ],
   "source": [
    "#3Auswerten\n",
    "\n",
    "from sklearn.model_selection import StratifiedKFold,cross_val_score\n",
    "cv_splitter = StratifiedKFold(shuffle=True)\n",
    "cross_val_score(pipeline,data_orig,data_orig['no_date_spaghetti_throw_away'], cv=cv_splitter,scoring='f1').mean()"
   ],
   "metadata": {
    "collapsed": false,
    "pycharm": {
     "name": "#%%\n"
    }
   }
  },
  {
   "cell_type": "code",
   "execution_count": 7,
   "outputs": [
    {
     "data": {
      "text/plain": "Pipeline(steps=[('columntransformer',\n                 ColumnTransformer(transformers=[('select_columns',\n                                                  'passthrough',\n                                                  ['look_at_dates', 'age',\n                                                   'age_stop_edu',\n                                                   'household_size',\n                                                   'best_before_meaning_map',\n                                                   'validity_meaning_map'])])),\n                ('simpleimputer', SimpleImputer()),\n                ('standardscaler', StandardScaler()),\n                ('randomforestclassifier',\n                 RandomForestClassifier(max_depth=7, n_estimators=2,\n                                        random_state=42))])"
     },
     "execution_count": 7,
     "metadata": {},
     "output_type": "execute_result"
    }
   ],
   "source": [
    "#4 Modell mit alen Daten trainieren\n",
    "pipeline.fit(data_orig,data_orig['no_date_spaghetti_throw_away'])"
   ],
   "metadata": {
    "collapsed": false,
    "pycharm": {
     "name": "#%%\n"
    }
   }
  },
  {
   "cell_type": "code",
   "execution_count": 8,
   "outputs": [],
   "source": [
    "#5 Modell speichern\n",
    "import pickle\n",
    "with open('pipeline_spaghetti.pkl','wb') as file:\n",
    "    pickle.dump(pipeline,file)"
   ],
   "metadata": {
    "collapsed": false,
    "pycharm": {
     "name": "#%%\n"
    }
   }
  },
  {
   "cell_type": "code",
   "execution_count": 9,
   "outputs": [],
   "source": [
    "with open('pipeline_spaghetti.pkl','rb') as file:\n",
    "    pipeline = pickle.load(file)"
   ],
   "metadata": {
    "collapsed": false,
    "pycharm": {
     "name": "#%%\n"
    }
   }
  },
  {
   "cell_type": "code",
   "execution_count": 10,
   "outputs": [
    {
     "data": {
      "text/plain": "       look_at_dates  age  age_stop_edu  household_size  cntrylat  cntrylon  \\\n15976            4.0   65          18.0             2.0   35.0000     33.00   \n17561            4.0   82          18.0             2.0   59.0000     26.00   \n12285            4.0   57          23.0             2.0   62.0000     15.00   \n10878            4.0   53          23.0             3.0   39.5000     -8.00   \n26024            3.0   63          18.0             3.0   45.1667     15.50   \n9406             2.0   72          21.0             2.0   52.5000      5.75   \n14159            4.0   18           NaN             2.0   54.0000     -2.00   \n23970            4.0   29          27.0             2.0   48.6667     19.50   \n25469            1.0   41          19.0             4.0   46.0000     15.00   \n189              3.0   49          20.0             2.0   50.8333      4.00   \n\n       best_before_meaning_map  validity_meaning_map  work_scale  \\\n15976                      1.0                   1.0         0.0   \n17561                      1.0                   2.0         0.0   \n12285                      2.0                   0.0         2.0   \n10878                      2.0                   2.0         3.0   \n26024                      1.0                   2.0         0.0   \n9406                       2.0                   1.0         0.0   \n14159                      0.0                   0.0         0.0   \n23970                      1.0                   0.0         2.0   \n25469                      1.0                   1.0         2.0   \n189                        2.0                   2.0         2.0   \n\n       population_density  salary  no_date_spaghetti_throw_away  gender_Female  \n15976                 2.0  0.1139                             0              0  \n17561                 0.0  0.1139                             0              0  \n12285                 2.0  0.5800                             0              0  \n10878                 2.0  0.8300                             0              0  \n26024                 1.0  0.1139                             0              1  \n9406                  0.0  0.1139                             0              0  \n14159                 0.0  0.0200                             1              1  \n23970                 0.0  0.5000                             0              1  \n25469                 1.0  0.2270                             0              1  \n189                   0.0  0.2270                             0              1  ",
      "text/html": "<div>\n<style scoped>\n    .dataframe tbody tr th:only-of-type {\n        vertical-align: middle;\n    }\n\n    .dataframe tbody tr th {\n        vertical-align: top;\n    }\n\n    .dataframe thead th {\n        text-align: right;\n    }\n</style>\n<table border=\"1\" class=\"dataframe\">\n  <thead>\n    <tr style=\"text-align: right;\">\n      <th></th>\n      <th>look_at_dates</th>\n      <th>age</th>\n      <th>age_stop_edu</th>\n      <th>household_size</th>\n      <th>cntrylat</th>\n      <th>cntrylon</th>\n      <th>best_before_meaning_map</th>\n      <th>validity_meaning_map</th>\n      <th>work_scale</th>\n      <th>population_density</th>\n      <th>salary</th>\n      <th>no_date_spaghetti_throw_away</th>\n      <th>gender_Female</th>\n    </tr>\n  </thead>\n  <tbody>\n    <tr>\n      <th>15976</th>\n      <td>4.0</td>\n      <td>65</td>\n      <td>18.0</td>\n      <td>2.0</td>\n      <td>35.0000</td>\n      <td>33.00</td>\n      <td>1.0</td>\n      <td>1.0</td>\n      <td>0.0</td>\n      <td>2.0</td>\n      <td>0.1139</td>\n      <td>0</td>\n      <td>0</td>\n    </tr>\n    <tr>\n      <th>17561</th>\n      <td>4.0</td>\n      <td>82</td>\n      <td>18.0</td>\n      <td>2.0</td>\n      <td>59.0000</td>\n      <td>26.00</td>\n      <td>1.0</td>\n      <td>2.0</td>\n      <td>0.0</td>\n      <td>0.0</td>\n      <td>0.1139</td>\n      <td>0</td>\n      <td>0</td>\n    </tr>\n    <tr>\n      <th>12285</th>\n      <td>4.0</td>\n      <td>57</td>\n      <td>23.0</td>\n      <td>2.0</td>\n      <td>62.0000</td>\n      <td>15.00</td>\n      <td>2.0</td>\n      <td>0.0</td>\n      <td>2.0</td>\n      <td>2.0</td>\n      <td>0.5800</td>\n      <td>0</td>\n      <td>0</td>\n    </tr>\n    <tr>\n      <th>10878</th>\n      <td>4.0</td>\n      <td>53</td>\n      <td>23.0</td>\n      <td>3.0</td>\n      <td>39.5000</td>\n      <td>-8.00</td>\n      <td>2.0</td>\n      <td>2.0</td>\n      <td>3.0</td>\n      <td>2.0</td>\n      <td>0.8300</td>\n      <td>0</td>\n      <td>0</td>\n    </tr>\n    <tr>\n      <th>26024</th>\n      <td>3.0</td>\n      <td>63</td>\n      <td>18.0</td>\n      <td>3.0</td>\n      <td>45.1667</td>\n      <td>15.50</td>\n      <td>1.0</td>\n      <td>2.0</td>\n      <td>0.0</td>\n      <td>1.0</td>\n      <td>0.1139</td>\n      <td>0</td>\n      <td>1</td>\n    </tr>\n    <tr>\n      <th>9406</th>\n      <td>2.0</td>\n      <td>72</td>\n      <td>21.0</td>\n      <td>2.0</td>\n      <td>52.5000</td>\n      <td>5.75</td>\n      <td>2.0</td>\n      <td>1.0</td>\n      <td>0.0</td>\n      <td>0.0</td>\n      <td>0.1139</td>\n      <td>0</td>\n      <td>0</td>\n    </tr>\n    <tr>\n      <th>14159</th>\n      <td>4.0</td>\n      <td>18</td>\n      <td>NaN</td>\n      <td>2.0</td>\n      <td>54.0000</td>\n      <td>-2.00</td>\n      <td>0.0</td>\n      <td>0.0</td>\n      <td>0.0</td>\n      <td>0.0</td>\n      <td>0.0200</td>\n      <td>1</td>\n      <td>1</td>\n    </tr>\n    <tr>\n      <th>23970</th>\n      <td>4.0</td>\n      <td>29</td>\n      <td>27.0</td>\n      <td>2.0</td>\n      <td>48.6667</td>\n      <td>19.50</td>\n      <td>1.0</td>\n      <td>0.0</td>\n      <td>2.0</td>\n      <td>0.0</td>\n      <td>0.5000</td>\n      <td>0</td>\n      <td>1</td>\n    </tr>\n    <tr>\n      <th>25469</th>\n      <td>1.0</td>\n      <td>41</td>\n      <td>19.0</td>\n      <td>4.0</td>\n      <td>46.0000</td>\n      <td>15.00</td>\n      <td>1.0</td>\n      <td>1.0</td>\n      <td>2.0</td>\n      <td>1.0</td>\n      <td>0.2270</td>\n      <td>0</td>\n      <td>1</td>\n    </tr>\n    <tr>\n      <th>189</th>\n      <td>3.0</td>\n      <td>49</td>\n      <td>20.0</td>\n      <td>2.0</td>\n      <td>50.8333</td>\n      <td>4.00</td>\n      <td>2.0</td>\n      <td>2.0</td>\n      <td>2.0</td>\n      <td>0.0</td>\n      <td>0.2270</td>\n      <td>0</td>\n      <td>1</td>\n    </tr>\n  </tbody>\n</table>\n</div>"
     },
     "execution_count": 10,
     "metadata": {},
     "output_type": "execute_result"
    }
   ],
   "source": [
    "#7: Daten zur Vorhersgae bestimmen\n",
    "prediction_input = data_orig.sample(10)\n",
    "prediction_input"
   ],
   "metadata": {
    "collapsed": false,
    "pycharm": {
     "name": "#%%\n"
    }
   }
  },
  {
   "cell_type": "code",
   "execution_count": 11,
   "outputs": [
    {
     "data": {
      "text/plain": "array([0, 0, 0, 0, 0, 0, 1, 0, 0, 0], dtype=uint8)"
     },
     "execution_count": 11,
     "metadata": {},
     "output_type": "execute_result"
    }
   ],
   "source": [
    "#8: Vorhersage machen\n",
    "predictions = pipeline.predict(prediction_input)\n",
    "predictions"
   ],
   "metadata": {
    "collapsed": false,
    "pycharm": {
     "name": "#%%\n"
    }
   }
  },
  {
   "cell_type": "code",
   "execution_count": 12,
   "outputs": [],
   "source": [
    "#9 Vorhersage und Input-Daten in Excel-Datei speichern\n",
    "with pd.ExcelWriter('prediction_spa.xlsx', engine='openpyxl', mode='wa') as writer:\n",
    "    prediction_input.to_excel(writer, sheet_name='Prediction Input')\n",
    "    pd.Series(predictions).to_excel(writer, sheet_name='Predictions')"
   ],
   "metadata": {
    "collapsed": false,
    "pycharm": {
     "name": "#%%\n"
    }
   }
  },
  {
   "cell_type": "code",
   "execution_count": 12,
   "outputs": [],
   "source": [],
   "metadata": {
    "collapsed": false,
    "pycharm": {
     "name": "#%%\n"
    }
   }
  }
 ],
 "metadata": {
  "kernelspec": {
   "display_name": "Python 3",
   "language": "python",
   "name": "python3"
  },
  "language_info": {
   "codemirror_mode": {
    "name": "ipython",
    "version": 2
   },
   "file_extension": ".py",
   "mimetype": "text/x-python",
   "name": "python",
   "nbconvert_exporter": "python",
   "pygments_lexer": "ipython2",
   "version": "2.7.6"
  }
 },
 "nbformat": 4,
 "nbformat_minor": 0
}